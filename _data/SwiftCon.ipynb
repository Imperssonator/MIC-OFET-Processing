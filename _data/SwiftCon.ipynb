{
 "metadata": {},
 "nbformat": 3,
 "nbformat_minor": 0,
 "worksheets": [
  {
   "cells": [
    {
     "cell_type": "code",
     "collapsed": false,
     "input": [
      "\"\"\"\n",
      "Created on Tue Oct 21 13:50:28 2014\n",
      "\n",
      "@author: Imperssonator\n",
      "\"\"\"\n",
      "\n",
      "from swiftclient import Connection\n",
      "\n",
      "authURL = 'https://swift.storm.gatech.edu/auth/v1.0'\n",
      "#mainURL = 'https://npersson3@swift.storm.gatech.edu'\n",
      "user = 'YOUR USERNAME'\n",
      "PW = 'YOUR PASSWORD'\n",
      "container='YOUR CONTAINER NAME'\n",
      "\n",
      "swift = Connection(authurl=authURL,user=user,key=PW,insecure=True)\n",
      "\n",
      "(headers,containers)=swift.get_account()\n",
      "\n",
      "print(headers)\n",
      "print(containers)\n",
      "\n",
      "cont1=swift.get_container(container)\n",
      "print(cont1)"
     ],
     "language": "python",
     "metadata": {},
     "outputs": []
    }
   ],
   "metadata": {}
  }
 ]
}
